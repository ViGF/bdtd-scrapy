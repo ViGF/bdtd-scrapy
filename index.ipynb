{
 "cells": [
  {
   "cell_type": "code",
   "execution_count": 50,
   "metadata": {},
   "outputs": [],
   "source": [
    "import requests\n",
    "import pandas as pd\n",
    "from bs4 import BeautifulSoup"
   ]
  },
  {
   "cell_type": "code",
   "execution_count": 51,
   "metadata": {},
   "outputs": [],
   "source": [
    "#Substitua o link da sua busca aqui\n",
    "completeUrl = 'https://bdtd.ibict.br/vufind/Search/Results?lookfor=atendimento+ubs&type=AllFields&filter%5B%5D=format%3A%22masterThesis%22'"
   ]
  },
  {
   "cell_type": "code",
   "execution_count": 52,
   "metadata": {},
   "outputs": [],
   "source": [
    "maxQuantity = 25\n",
    "\n",
    "splitDelimiter = '/vufind'\n",
    "completeUrl = completeUrl.split(splitDelimiter, 1)\n",
    "\n",
    "baseUrl = completeUrl[0]\n",
    "query = splitDelimiter + completeUrl[1]\n",
    "\n",
    "pageNumber = 1\n",
    "researchCounter = 0"
   ]
  },
  {
   "cell_type": "code",
   "execution_count": 53,
   "metadata": {},
   "outputs": [],
   "source": [
    "def getHTML(url):\n",
    "    r = requests.get(url)\n",
    "    soup = BeautifulSoup(r.text, 'html.parser')\n",
    "\n",
    "    return soup\n",
    "\n",
    "def getRowsInfos(soup, remainingQuantity):\n",
    "    researchQuantityInPage = 0\n",
    "\n",
    "    authors = soup.select('.author a')\n",
    "    years = soup.find_all('div', {'id': 'datePublish'})\n",
    "    titles = soup.find_all('a', {'class': 'title'}, limit=remainingQuantity)\n",
    "    links = soup.find_all('a', {'class': 'fulltext'})\n",
    "\n",
    "    rows = []\n",
    "\n",
    "    for (author, year, title, link) in zip(authors, years, titles, links):\n",
    "        author = author.text\n",
    "        year = year.text.split()[-1]\n",
    "        title = title.text.strip()\n",
    "        link = link.get('href')\n",
    "\n",
    "        rows.append({\n",
    "          \"Autor\": [author],\n",
    "          \"Ano de Defesa\": [year], \n",
    "          \"Título\": [title], \n",
    "          \"Link\": [link]\n",
    "        })\n",
    "\n",
    "        researchQuantityInPage += 1\n",
    "\n",
    "    return [researchQuantityInPage, rows]\n",
    "\n",
    "def addNewRowToDf(rows, dfWithoutNewRow):\n",
    "    dfWithNewRow = pd.DataFrame(rows)\n",
    "\n",
    "    dfWithNewRow = pd.concat([dfWithoutNewRow, dfWithNewRow])\n",
    "\n",
    "    print(dfWithNewRow)\n",
    "\n",
    "    return dfWithNewRow"
   ]
  },
  {
   "cell_type": "code",
   "execution_count": 54,
   "metadata": {},
   "outputs": [],
   "source": [
    "url = baseUrl + query\n",
    "soup = getHTML(url)"
   ]
  },
  {
   "cell_type": "code",
   "execution_count": 55,
   "metadata": {},
   "outputs": [],
   "source": [
    "df = pd.DataFrame()"
   ]
  },
  {
   "cell_type": "code",
   "execution_count": 59,
   "metadata": {},
   "outputs": [],
   "source": [
    "while researchCounter < maxQuantity:\n",
    "  remaining = maxQuantity - researchCounter\n",
    "  quantityAdded = 0\n",
    "  if pageNumber == 1:\n",
    "    print(\"Página:\", pageNumber)\n",
    "\n",
    "    [quantityAdded, rows] = getRowsInfos(soup, remaining)\n",
    "\n",
    "    df = addNewRowToDf(rows, df)\n",
    "\n",
    "    print(\"Trabalhos coletados:\", quantityAdded)\n",
    "  elif remaining > 0:\n",
    "    print(\"Página:\", pageNumber)\n",
    "\n",
    "    try:\n",
    "      nextQueryLink = soup.select('ul.pagination > li.active + li > a')[0].get('href')\n",
    "      url = baseUrl + nextQueryLink\n",
    "      soup = getHTML(url)\n",
    "    except:\n",
    "      print(f\"Parece que a sua busca não retorna {maxQuantity} resultados\")\n",
    "      break\n",
    "\n",
    "    [quantityAdded, rows] = getRowsInfos(soup, remaining)\n",
    "\n",
    "    df = addNewRowToDf(rows, df)\n",
    "\n",
    "    print(\"Trabalhos coletados:\", quantityAdded)\n",
    "\n",
    "  pageNumber = pageNumber + 1\n",
    "  researchCounter += quantityAdded"
   ]
  },
  {
   "cell_type": "code",
   "execution_count": 60,
   "metadata": {},
   "outputs": [
    {
     "name": "stdout",
     "output_type": "stream",
     "text": [
      "                                         Autor Ano de Defesa  \\\n",
      "0           [Sarmento, Maria das Graças Silva]        [2019]   \n",
      "1      [Gurgel, Camila Augusta de Rubim Costa]        [2014]   \n",
      "2                [Horta, Heloisa Helena Lemos]        [2007]   \n",
      "3                [Horta, Heloisa Helena Lemos]        [2007]   \n",
      "4                        [Marco Antonio Kulik]        [2015]   \n",
      "5                  [Silvana Aparecida Sanavio]        [2016]   \n",
      "6                [Carolina Pinheiro Perracini]        [2009]   \n",
      "7                       [Fernandes, Alexandre]        [2013]   \n",
      "8        [Medeiros, Deisyanne Camara Alves de]        [2012]   \n",
      "9                [LISBOA, Livia Anniele Sousa]        [2015]   \n",
      "10                        [Neiva, Tiago Sousa]        [2016]   \n",
      "11    [Cavalcante, Cristiane das Gra??as Dias]        [2016]   \n",
      "12                [Avelar, Carine de Oliveira]        [2017]   \n",
      "13            [Araújo, Manuela Luchesi Brazil]        [2010]   \n",
      "14  [Claro, Juliane Marcela Guimarães [UNESP]]        [2018]   \n",
      "15                 [Velasques, Márcia Barbosa]        [2003]   \n",
      "16                 [Velasques, Marcia Barbosa]        [2003]   \n",
      "17                 [Carvalho, Simone da Silva]        [2021]   \n",
      "18                   [Nathalia Luiza Ferreira]        [2012]   \n",
      "19          [Toledo, Izabela de Faria Batista]        [2023]   \n",
      "0                [Oliveira, Solange Glória de]        [2010]   \n",
      "1              [Flumignan, Jessica D. Pacheco]        [2014]   \n",
      "2                        [Ricardo de Oliveira]        [2008]   \n",
      "3                    [Isabela Vaz Leite Pinto]        [2015]   \n",
      "4                   [MARTINS, Marlene Andrade]        [2008]   \n",
      "\n",
      "                                               Título  \\\n",
      "0   [Avaliação da saúde bucal de pacientes portado...   \n",
      "1   [Investigando o cuidado em equipe de enfermage...   \n",
      "2   [Subsídios para atenção integral do idoso: per...   \n",
      "3   [Subsídios para atenção integral do idoso: per...   \n",
      "4   [Como os integrantes profissionais de uma Unid...   \n",
      "5   [Elaboração de material educativo para ações d...   \n",
      "6   [Promoção da saúde e o desenvolvimento de habi...   \n",
      "7   [Análise das informações a respeito das leishm...   \n",
      "8   [UBS RN-7: proposta arquitetônica para um padr...   \n",
      "9   [As características estruturais e organizacion...   \n",
      "10  [Compara????o da autopercep????o da sa??de nos...   \n",
      "11  [Monitoramento da log??stica reversa de res??d...   \n",
      "12  [Caracterização dos alimentos ultraprocessados...   \n",
      "13  [Atendimento em grupo na fonoaudiologia: feito...   \n",
      "14  [Satisfação aos atendimentos odontológicos no ...   \n",
      "15  [INTERVENÇÕES DE PSICÓLOGOS NAS UNIDADES BÁSIC...   \n",
      "16  [INTERVENÇÕES DE PSICÓLOGOS NAS UNIDADES BÁSIC...   \n",
      "17  [Análise dos atendimentos da demanda espontâne...   \n",
      "18  [Efetividade do aconselhamento nutricional em ...   \n",
      "19  [Atendimento aos usuários da unidade de urgênc...   \n",
      "0   [Caracterização dos pacientes hipertensos e di...   \n",
      "1   [Caracterização da demanda para o atendimento ...   \n",
      "2   [Adequação da demanda atendida em serviço de u...   \n",
      "3   [Características relacionadas à compreensão da...   \n",
      "4   [Avaliação de feridas crônicas em pacientes at...   \n",
      "\n",
      "                                                 Link  \n",
      "0    [https://www.arca.fiocruz.br/handle/icict/32099]  \n",
      "1   [https://repositorio.ufrn.br/jspui/handle/1234...  \n",
      "2   [https://repositorio.cruzeirodosul.edu.br/hand...  \n",
      "3   [https://repositorio.cruzeirodosul.edu.br/hand...  \n",
      "4   [https://doi.org/10.11606/D.23.2015.tde-170620...  \n",
      "5   [https://doi.org/10.11606/D.108.2016.tde-21112...  \n",
      "6   [https://doi.org/10.11606/D.5.2009.tde-2808200...  \n",
      "7   [https://repositorio.ufsc.br/xmlui/handle/1234...  \n",
      "8   [https://repositorio.ufrn.br/jspui/handle/1234...  \n",
      "9   [https://tedebc.ufma.br/jspui/handle/tede/tede...  \n",
      "10  [https://bdtd.ucb.br:8443/jspui/handle/tede/2186]  \n",
      "11  [http://bibliotecatede.uninove.br/handle/tede/...  \n",
      "12            [http://www.bdtd.uerj.br/handle/1/7292]  \n",
      "13       [https://tede2.pucsp.br/handle/handle/12263]  \n",
      "14               [http://hdl.handle.net/11449/157214]  \n",
      "15  [http://tede.metodista.br/jspui/handle/tede/1378]  \n",
      "16  [http://tede.metodista.br/jspui/handle/tede/1432]  \n",
      "17               [http://hdl.handle.net/11449/214833]  \n",
      "18           [http://hdl.handle.net/1843/GCPA-95ZHGS]  \n",
      "19           [http://www.bdtd.uerj.br/handle/1/19805]  \n",
      "0    [https://www.arca.fiocruz.br/handle/icict/24209]  \n",
      "1         [https://tede2.pucsp.br/handle/handle/9492]  \n",
      "2   [http://www.bibliotecadigital.uel.br/document/...  \n",
      "3            [http://hdl.handle.net/1843/BUOS-ASXN3W]  \n",
      "4   [http://repositorio.bc.ufg.br/tede/handle/tde/...  \n"
     ]
    }
   ],
   "source": [
    "print(df)"
   ]
  },
  {
   "cell_type": "code",
   "execution_count": 58,
   "metadata": {},
   "outputs": [
    {
     "name": "stdout",
     "output_type": "stream",
     "text": [
      "Foram coletados 25 trabalhos. Seu arquivo está pronto!\n"
     ]
    }
   ],
   "source": [
    "print(f\"Foram coletados {researchCounter} trabalhos. Seu arquivo está pronto!\")"
   ]
  }
 ],
 "metadata": {
  "kernelspec": {
   "display_name": "Python 3",
   "language": "python",
   "name": "python3"
  },
  "language_info": {
   "codemirror_mode": {
    "name": "ipython",
    "version": 3
   },
   "file_extension": ".py",
   "mimetype": "text/x-python",
   "name": "python",
   "nbconvert_exporter": "python",
   "pygments_lexer": "ipython3",
   "version": "3.10.11"
  }
 },
 "nbformat": 4,
 "nbformat_minor": 2
}
